{
 "cells": [
  {
   "cell_type": "code",
   "execution_count": null,
   "id": "8c805eb2-1065-426f-b34b-4c46f40f66a1",
   "metadata": {
    "tags": []
   },
   "outputs": [],
   "source": [
    "import requests\n",
    "from bs4 import BeautifulSoup\n",
    "import re"
   ]
  },
  {
   "cell_type": "code",
   "execution_count": null,
   "id": "fd4a26cf-8ff8-43c3-bd58-e05b8716a808",
   "metadata": {
    "tags": []
   },
   "outputs": [],
   "source": [
    "#time module to not get blocked\n",
    "import time\n",
    "\n",
    "#function to get all links to relevant jobs\n",
    "def get_job_links(url):\n",
    "    r = requests.get(url)\n",
    "    soup = BeautifulSoup(r.text, \"html.parser\")\n",
    "    \n",
    "    #get last page number\n",
    "    max_page_text = soup.select(\".page-link\")[-2].get_text()\n",
    "    max_page_text = max_page_text.strip()\n",
    "    max_page = int(max_page_text)\n",
    "    \n",
    "    links = []\n",
    "    \n",
    "    for i in range(1, max_page + 1):\n",
    "        r = requests.get(f\"{url}&page={i}\")\n",
    "        soup = BeautifulSoup(r.text, \"html.parser\")\n",
    "        page_links = [\"https://djinni.co\" + a[\"href\"] for a in soup.select(\".job-item__title-link\")]\n",
    "        links.extend(page_links)\n",
    "        time.sleep(3)\n",
    "        \n",
    "    return links"
   ]
  },
  {
   "cell_type": "code",
   "execution_count": null,
   "id": "5fe957d0-df4f-47b1-b3d2-b66506d36e6d",
   "metadata": {
    "tags": []
   },
   "outputs": [],
   "source": [
    "url = \"enter your url there\"\n",
    "links = get_job_links(url)"
   ]
  },
  {
   "cell_type": "code",
   "execution_count": null,
   "id": "239f5929-4c9d-408d-a05c-24c742a17feb",
   "metadata": {
    "tags": []
   },
   "outputs": [],
   "source": [
    "def job_description(url):\n",
    "    r = requests.get(url)\n",
    "    soup = BeautifulSoup(r.text, 'html.parser')\n",
    "    \n",
    "    #find if job is remote, hybrid or office-based\n",
    "    try:\n",
    "        arrangement_type = soup.find(class_=\"d-block font-weight-600\", string=re.compile(r\"(Office|Remote)\", re.IGNORECASE))\n",
    "        arrangement_type = arrangement_type.get_text()\n",
    "    except AttributeError:\n",
    "        arrangement_type = None\n",
    "    #find if job is fulltime or part-time\n",
    "    employment_type = soup.find(string=re.compile(r\"Employment:\"))\n",
    "    if employment_type is not None:\n",
    "        employment_type = employment_type.split(\"Employment: \")[1]\n",
    "    \n",
    "    #job domain\n",
    "    domain = soup.find(string=re.compile(r\"Domain:\"))\n",
    "    if domain is not None:\n",
    "        domain = domain.split(\"Domain: \")[1]\n",
    "    \n",
    "    #English requirements\n",
    "    language = soup.find(class_=\"fw-semibold\", string=re.compile(r\"English\"))\n",
    "    if language is not None:\n",
    "        language = language.find_next(\"td\").get_text()\n",
    "    else:\n",
    "        language = \"Not Listed\"\n",
    "    \n",
    "    #skills requirements\n",
    "    requirements = soup.select(\".row.gx-2.text-secondary.fs-5\")\n",
    "    if requirements:\n",
    "        requirements = requirements[0].find(\"div\", class_=\"col\").get_text()\n",
    "    else:\n",
    "        requirements = \"Not Listed\"\n",
    "    \n",
    "    return [url, arrangement_type, employment_type, domain, language, requirements]"
   ]
  },
  {
   "cell_type": "code",
   "execution_count": null,
   "id": "bbfb619f-76ee-41db-9f33-be9358c7f705",
   "metadata": {
    "tags": []
   },
   "outputs": [],
   "source": [
    "job_descriptions = [] \n",
    "for link in links:\n",
    "    a = job_description(link)\n",
    "    job_descriptions.append(a)\n",
    "    time.sleep(3)\n"
   ]
  },
  {
   "cell_type": "code",
   "execution_count": null,
   "id": "d70040db-b4a8-4905-8b99-4a2f94660445",
   "metadata": {
    "tags": []
   },
   "outputs": [],
   "source": [
    "import pandas as pd\n",
    "df = pd.DataFrame(job_descriptions, columns=[\"url\", \"arrangement_type\", \"employment_type\", \"domain\", \"English level\", \"requirements\"])\n",
    "df.to_csv(\"jobs.csv\", index=False)"
   ]
  }
 ],
 "metadata": {
  "kernelspec": {
   "display_name": "Python 3 (ipykernel)",
   "language": "python",
   "name": "python3"
  },
  "language_info": {
   "codemirror_mode": {
    "name": "ipython",
    "version": 3
   },
   "file_extension": ".py",
   "mimetype": "text/x-python",
   "name": "python",
   "nbconvert_exporter": "python",
   "pygments_lexer": "ipython3",
   "version": "3.11.7"
  }
 },
 "nbformat": 4,
 "nbformat_minor": 5
}
